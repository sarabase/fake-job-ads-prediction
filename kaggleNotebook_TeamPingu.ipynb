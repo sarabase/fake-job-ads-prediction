{
 "cells": [
  {
   "cell_type": "markdown",
   "id": "d8432558",
   "metadata": {},
   "source": [
    "# Fake Job Predictions\n",
    "#### By Sara Bardají, Sergi Bech, Maria Magdalena Pol and Celine Odding"
   ]
  },
  {
   "cell_type": "code",
   "execution_count": 1,
   "id": "3f43782b",
   "metadata": {
    "execution": {
     "iopub.execute_input": "2022-10-14T15:06:56.022653Z",
     "iopub.status.busy": "2022-10-14T15:06:56.021317Z",
     "iopub.status.idle": "2022-10-14T15:06:56.053328Z",
     "shell.execute_reply": "2022-10-14T15:06:56.052626Z",
     "shell.execute_reply.started": "2022-10-14T15:06:56.022505Z"
    }
   },
   "outputs": [],
   "source": [
    "# This Python 3 environment comes with many helpful analytics libraries installed\n",
    "# It is defined by the kaggle/python Docker image: https://github.com/kaggle/docker-python\n",
    "# For example, here's several helpful packages to load\n",
    "\n",
    "import numpy as np # linear algebra\n",
    "import pandas as pd # data processing, CSV file I/O (e.g. pd.read_csv)\n",
    "import scipy as sp\n",
    "\n",
    "# Input data files are available in the read-only \"../input/\" directory\n",
    "# For example, running this (by clicking run or pressing Shift+Enter) will list all files under the input directory\n",
    "\n",
    "import os\n",
    "for dirname, _, filenames in os.walk('/kaggle/input'):\n",
    "    for filename in filenames:\n",
    "        print(os.path.join(dirname, filename))\n",
    "\n",
    "# You can write up to 20GB to the current directory (/kaggle/working/) that gets preserved as output when you create a version using \"Save & Run All\" \n",
    "# You can also write temporary files to /kaggle/temp/, but they won't be saved outside of the current session"
   ]
  },
  {
   "cell_type": "markdown",
   "id": "7d6a9403",
   "metadata": {},
   "source": [
    "## Imports"
   ]
  },
  {
   "cell_type": "code",
   "execution_count": 1,
   "id": "59930bf9",
   "metadata": {
    "execution": {
     "iopub.execute_input": "2022-10-14T15:06:56.055580Z",
     "iopub.status.busy": "2022-10-14T15:06:56.054612Z",
     "iopub.status.idle": "2022-10-14T15:07:06.475341Z",
     "shell.execute_reply": "2022-10-14T15:07:06.474330Z",
     "shell.execute_reply.started": "2022-10-14T15:06:56.055552Z"
    }
   },
   "outputs": [
    {
     "name": "stderr",
     "output_type": "stream",
     "text": [
      "[nltk_data] Downloading package wordnet to\n",
      "[nltk_data]     /Users/sarabase/nltk_data...\n",
      "[nltk_data]   Package wordnet is already up-to-date!\n",
      "[nltk_data] Downloading package omw-1.4 to\n",
      "[nltk_data]     /Users/sarabase/nltk_data...\n",
      "[nltk_data]   Package omw-1.4 is already up-to-date!\n"
     ]
    }
   ],
   "source": [
    "import numpy as np\n",
    "import pandas as pd\n",
    "import matplotlib.pyplot as plt\n",
    "%matplotlib inline\n",
    "import seaborn as sns\n",
    "import missingno as msno\n",
    "\n",
    "import nltk\n",
    "import string\n",
    "import re\n",
    "\n",
    "from nltk.corpus import stopwords\n",
    "from nltk.stem import SnowballStemmer\n",
    "from nltk.tokenize import word_tokenize\n",
    "nltk.download('wordnet')\n",
    "nltk.download('omw-1.4')\n",
    "\n",
    "import spacy\n",
    "from spacy.lang.en.stop_words import STOP_WORDS\n",
    "from spacy.lang.en import English"
   ]
  },
  {
   "cell_type": "markdown",
   "id": "b35bc6cd",
   "metadata": {},
   "source": [
    "## Read data"
   ]
  },
  {
   "cell_type": "code",
   "execution_count": 3,
   "id": "67036a05",
   "metadata": {
    "execution": {
     "iopub.execute_input": "2022-10-14T15:07:06.477880Z",
     "iopub.status.busy": "2022-10-14T15:07:06.477357Z",
     "iopub.status.idle": "2022-10-14T15:07:07.594444Z",
     "shell.execute_reply": "2022-10-14T15:07:07.593396Z",
     "shell.execute_reply.started": "2022-10-14T15:07:06.477853Z"
    }
   },
   "outputs": [],
   "source": [
    "df = pd.read_csv('inclassfakejobs/train.csv')\n",
    "df_sub = pd.read_csv('inclassfakejobs/test.csv')"
   ]
  },
  {
   "cell_type": "code",
   "execution_count": 4,
   "id": "255728cc",
   "metadata": {
    "execution": {
     "iopub.execute_input": "2022-10-14T15:07:07.595955Z",
     "iopub.status.busy": "2022-10-14T15:07:07.595653Z",
     "iopub.status.idle": "2022-10-14T15:07:07.623832Z",
     "shell.execute_reply": "2022-10-14T15:07:07.622649Z",
     "shell.execute_reply.started": "2022-10-14T15:07:07.595927Z"
    }
   },
   "outputs": [
    {
     "data": {
      "text/html": [
       "<div>\n",
       "<style scoped>\n",
       "    .dataframe tbody tr th:only-of-type {\n",
       "        vertical-align: middle;\n",
       "    }\n",
       "\n",
       "    .dataframe tbody tr th {\n",
       "        vertical-align: top;\n",
       "    }\n",
       "\n",
       "    .dataframe thead th {\n",
       "        text-align: right;\n",
       "    }\n",
       "</style>\n",
       "<table border=\"1\" class=\"dataframe\">\n",
       "  <thead>\n",
       "    <tr style=\"text-align: right;\">\n",
       "      <th></th>\n",
       "      <th>Id</th>\n",
       "      <th>job_id</th>\n",
       "      <th>title</th>\n",
       "      <th>location</th>\n",
       "      <th>department</th>\n",
       "      <th>salary_range</th>\n",
       "      <th>company_profile</th>\n",
       "      <th>description</th>\n",
       "      <th>requirements</th>\n",
       "      <th>benefits</th>\n",
       "      <th>telecommuting</th>\n",
       "      <th>has_company_logo</th>\n",
       "      <th>has_questions</th>\n",
       "      <th>employment_type</th>\n",
       "      <th>required_experience</th>\n",
       "      <th>required_education</th>\n",
       "      <th>industry</th>\n",
       "      <th>function</th>\n",
       "      <th>required_doughnuts_comsumption</th>\n",
       "      <th>fraudulent</th>\n",
       "    </tr>\n",
       "  </thead>\n",
       "  <tbody>\n",
       "    <tr>\n",
       "      <th>0</th>\n",
       "      <td>0</td>\n",
       "      <td>5737</td>\n",
       "      <td>Jr. Business Analyst &amp; Quality Analyst (entry...</td>\n",
       "      <td>US, NJ, PISCATAWAY</td>\n",
       "      <td>NaN</td>\n",
       "      <td>NaN</td>\n",
       "      <td>NaN</td>\n",
       "      <td>Duration: Full time / W2Location: Piscataway,N...</td>\n",
       "      <td>What we require:-- Masters degree in Computers...</td>\n",
       "      <td>NaN</td>\n",
       "      <td>0</td>\n",
       "      <td>0</td>\n",
       "      <td>0</td>\n",
       "      <td>Full-time</td>\n",
       "      <td>Entry level</td>\n",
       "      <td>Master's Degree</td>\n",
       "      <td>Financial Services</td>\n",
       "      <td>Finance</td>\n",
       "      <td>-0.410911</td>\n",
       "      <td>0</td>\n",
       "    </tr>\n",
       "    <tr>\n",
       "      <th>1</th>\n",
       "      <td>1</td>\n",
       "      <td>7107</td>\n",
       "      <td>English Teacher Abroad</td>\n",
       "      <td>US, PA, Scranton</td>\n",
       "      <td>NaN</td>\n",
       "      <td>NaN</td>\n",
       "      <td>We help teachers get safe &amp;amp; secure jobs ab...</td>\n",
       "      <td>Play with kids, get paid for it Love travel? J...</td>\n",
       "      <td>University degree required. TEFL / TESOL / CEL...</td>\n",
       "      <td>See job description</td>\n",
       "      <td>0</td>\n",
       "      <td>1</td>\n",
       "      <td>1</td>\n",
       "      <td>Contract</td>\n",
       "      <td>NaN</td>\n",
       "      <td>Bachelor's Degree</td>\n",
       "      <td>Education Management</td>\n",
       "      <td>NaN</td>\n",
       "      <td>-0.163785</td>\n",
       "      <td>0</td>\n",
       "    </tr>\n",
       "    <tr>\n",
       "      <th>2</th>\n",
       "      <td>2</td>\n",
       "      <td>11979</td>\n",
       "      <td>SQL Server Database Developer Job opportunity ...</td>\n",
       "      <td>US, IL, Barrington</td>\n",
       "      <td>NaN</td>\n",
       "      <td>90000-100000</td>\n",
       "      <td>We are an innovative personnel-sourcing firm w...</td>\n",
       "      <td>Position : SQL Server Database DeveloperJob Lo...</td>\n",
       "      <td>Position : SQL Server Database DeveloperJob Lo...</td>\n",
       "      <td>Benefits - FullBonus Eligible - Yes</td>\n",
       "      <td>0</td>\n",
       "      <td>0</td>\n",
       "      <td>0</td>\n",
       "      <td>Full-time</td>\n",
       "      <td>Mid-Senior level</td>\n",
       "      <td>Bachelor's Degree</td>\n",
       "      <td>Information Technology and Services</td>\n",
       "      <td>Information Technology</td>\n",
       "      <td>-0.244369</td>\n",
       "      <td>0</td>\n",
       "    </tr>\n",
       "  </tbody>\n",
       "</table>\n",
       "</div>"
      ],
      "text/plain": [
       "   Id  job_id                                              title  \\\n",
       "0   0    5737   Jr. Business Analyst & Quality Analyst (entry...   \n",
       "1   1    7107                            English Teacher Abroad    \n",
       "2   2   11979  SQL Server Database Developer Job opportunity ...   \n",
       "\n",
       "             location department  salary_range  \\\n",
       "0  US, NJ, PISCATAWAY        NaN           NaN   \n",
       "1   US, PA, Scranton         NaN           NaN   \n",
       "2  US, IL, Barrington        NaN  90000-100000   \n",
       "\n",
       "                                     company_profile  \\\n",
       "0                                                NaN   \n",
       "1  We help teachers get safe &amp; secure jobs ab...   \n",
       "2  We are an innovative personnel-sourcing firm w...   \n",
       "\n",
       "                                         description  \\\n",
       "0  Duration: Full time / W2Location: Piscataway,N...   \n",
       "1  Play with kids, get paid for it Love travel? J...   \n",
       "2  Position : SQL Server Database DeveloperJob Lo...   \n",
       "\n",
       "                                        requirements  \\\n",
       "0  What we require:-- Masters degree in Computers...   \n",
       "1  University degree required. TEFL / TESOL / CEL...   \n",
       "2  Position : SQL Server Database DeveloperJob Lo...   \n",
       "\n",
       "                              benefits  telecommuting  has_company_logo  \\\n",
       "0                                  NaN              0                 0   \n",
       "1                  See job description              0                 1   \n",
       "2  Benefits - FullBonus Eligible - Yes              0                 0   \n",
       "\n",
       "   has_questions employment_type required_experience required_education  \\\n",
       "0              0       Full-time         Entry level    Master's Degree   \n",
       "1              1        Contract                 NaN  Bachelor's Degree   \n",
       "2              0       Full-time    Mid-Senior level  Bachelor's Degree   \n",
       "\n",
       "                              industry                function  \\\n",
       "0                   Financial Services                 Finance   \n",
       "1                 Education Management                     NaN   \n",
       "2  Information Technology and Services  Information Technology   \n",
       "\n",
       "   required_doughnuts_comsumption  fraudulent  \n",
       "0                       -0.410911           0  \n",
       "1                       -0.163785           0  \n",
       "2                       -0.244369           0  "
      ]
     },
     "execution_count": 4,
     "metadata": {},
     "output_type": "execute_result"
    }
   ],
   "source": [
    "df.head(3)"
   ]
  },
  {
   "cell_type": "code",
   "execution_count": 5,
   "id": "41cb2063",
   "metadata": {
    "execution": {
     "iopub.execute_input": "2022-10-14T15:07:07.626189Z",
     "iopub.status.busy": "2022-10-14T15:07:07.625902Z",
     "iopub.status.idle": "2022-10-14T15:07:07.632216Z",
     "shell.execute_reply": "2022-10-14T15:07:07.631148Z",
     "shell.execute_reply.started": "2022-10-14T15:07:07.626165Z"
    }
   },
   "outputs": [
    {
     "name": "stdout",
     "output_type": "stream",
     "text": [
      "The dataset is composed of 10728 sample with 20 features.\n"
     ]
    }
   ],
   "source": [
    "print(\"The dataset is composed of %i sample with %i features.\" % (df.shape[0], df.shape[1]))"
   ]
  },
  {
   "cell_type": "markdown",
   "id": "e78c8e54",
   "metadata": {},
   "source": [
    "## Exploratory Data Analysis"
   ]
  },
  {
   "cell_type": "code",
   "execution_count": 6,
   "id": "e2ec46d9",
   "metadata": {
    "execution": {
     "iopub.execute_input": "2022-10-14T15:07:07.633725Z",
     "iopub.status.busy": "2022-10-14T15:07:07.633502Z",
     "iopub.status.idle": "2022-10-14T15:07:07.668778Z",
     "shell.execute_reply": "2022-10-14T15:07:07.667650Z",
     "shell.execute_reply.started": "2022-10-14T15:07:07.633703Z"
    }
   },
   "outputs": [
    {
     "name": "stdout",
     "output_type": "stream",
     "text": [
      "<class 'pandas.core.frame.DataFrame'>\n",
      "RangeIndex: 10728 entries, 0 to 10727\n",
      "Data columns (total 20 columns):\n",
      " #   Column                          Non-Null Count  Dtype  \n",
      "---  ------                          --------------  -----  \n",
      " 0   Id                              10728 non-null  int64  \n",
      " 1   job_id                          10728 non-null  int64  \n",
      " 2   title                           10728 non-null  object \n",
      " 3   location                        10523 non-null  object \n",
      " 4   department                      3719 non-null   object \n",
      " 5   salary_range                    1709 non-null   object \n",
      " 6   company_profile                 8766 non-null   object \n",
      " 7   description                     10727 non-null  object \n",
      " 8   requirements                    9099 non-null   object \n",
      " 9   benefits                        6360 non-null   object \n",
      " 10  telecommuting                   10728 non-null  int64  \n",
      " 11  has_company_logo                10728 non-null  int64  \n",
      " 12  has_questions                   10728 non-null  int64  \n",
      " 13  employment_type                 8670 non-null   object \n",
      " 14  required_experience             6489 non-null   object \n",
      " 15  required_education              5827 non-null   object \n",
      " 16  industry                        7789 non-null   object \n",
      " 17  function                        6858 non-null   object \n",
      " 18  required_doughnuts_comsumption  10728 non-null  float64\n",
      " 19  fraudulent                      10728 non-null  int64  \n",
      "dtypes: float64(1), int64(6), object(13)\n",
      "memory usage: 1.6+ MB\n"
     ]
    }
   ],
   "source": [
    "df.info()"
   ]
  },
  {
   "cell_type": "markdown",
   "id": "95371283",
   "metadata": {},
   "source": [
    "Observe there are a lot of features of type object, in this case text, so it is important to think how we are going to preprocess this data. Notice there is also some features with a high percentage of null data."
   ]
  },
  {
   "cell_type": "code",
   "execution_count": 7,
   "id": "13563fc8",
   "metadata": {
    "execution": {
     "iopub.execute_input": "2022-10-14T15:07:07.670242Z",
     "iopub.status.busy": "2022-10-14T15:07:07.669933Z",
     "iopub.status.idle": "2022-10-14T15:07:07.703557Z",
     "shell.execute_reply": "2022-10-14T15:07:07.702655Z",
     "shell.execute_reply.started": "2022-10-14T15:07:07.670214Z"
    }
   },
   "outputs": [
    {
     "data": {
      "text/html": [
       "<div>\n",
       "<style scoped>\n",
       "    .dataframe tbody tr th:only-of-type {\n",
       "        vertical-align: middle;\n",
       "    }\n",
       "\n",
       "    .dataframe tbody tr th {\n",
       "        vertical-align: top;\n",
       "    }\n",
       "\n",
       "    .dataframe thead th {\n",
       "        text-align: right;\n",
       "    }\n",
       "</style>\n",
       "<table border=\"1\" class=\"dataframe\">\n",
       "  <thead>\n",
       "    <tr style=\"text-align: right;\">\n",
       "      <th></th>\n",
       "      <th>count</th>\n",
       "      <th>mean</th>\n",
       "      <th>std</th>\n",
       "      <th>min</th>\n",
       "      <th>25%</th>\n",
       "      <th>50%</th>\n",
       "      <th>75%</th>\n",
       "      <th>max</th>\n",
       "    </tr>\n",
       "  </thead>\n",
       "  <tbody>\n",
       "    <tr>\n",
       "      <th>Id</th>\n",
       "      <td>10728.0</td>\n",
       "      <td>5363.500000</td>\n",
       "      <td>3097.051178</td>\n",
       "      <td>0.000000</td>\n",
       "      <td>2681.750000</td>\n",
       "      <td>5363.500000</td>\n",
       "      <td>8045.250000</td>\n",
       "      <td>10727.000000</td>\n",
       "    </tr>\n",
       "    <tr>\n",
       "      <th>job_id</th>\n",
       "      <td>10728.0</td>\n",
       "      <td>8967.278523</td>\n",
       "      <td>5149.962766</td>\n",
       "      <td>1.000000</td>\n",
       "      <td>4490.500000</td>\n",
       "      <td>9046.500000</td>\n",
       "      <td>13422.250000</td>\n",
       "      <td>17878.000000</td>\n",
       "    </tr>\n",
       "    <tr>\n",
       "      <th>telecommuting</th>\n",
       "      <td>10728.0</td>\n",
       "      <td>0.042785</td>\n",
       "      <td>0.202382</td>\n",
       "      <td>0.000000</td>\n",
       "      <td>0.000000</td>\n",
       "      <td>0.000000</td>\n",
       "      <td>0.000000</td>\n",
       "      <td>1.000000</td>\n",
       "    </tr>\n",
       "    <tr>\n",
       "      <th>has_company_logo</th>\n",
       "      <td>10728.0</td>\n",
       "      <td>0.798005</td>\n",
       "      <td>0.401507</td>\n",
       "      <td>0.000000</td>\n",
       "      <td>1.000000</td>\n",
       "      <td>1.000000</td>\n",
       "      <td>1.000000</td>\n",
       "      <td>1.000000</td>\n",
       "    </tr>\n",
       "    <tr>\n",
       "      <th>has_questions</th>\n",
       "      <td>10728.0</td>\n",
       "      <td>0.488535</td>\n",
       "      <td>0.499892</td>\n",
       "      <td>0.000000</td>\n",
       "      <td>0.000000</td>\n",
       "      <td>0.000000</td>\n",
       "      <td>1.000000</td>\n",
       "      <td>1.000000</td>\n",
       "    </tr>\n",
       "    <tr>\n",
       "      <th>required_doughnuts_comsumption</th>\n",
       "      <td>10728.0</td>\n",
       "      <td>0.043313</td>\n",
       "      <td>0.367068</td>\n",
       "      <td>-1.131903</td>\n",
       "      <td>-0.195022</td>\n",
       "      <td>0.014018</td>\n",
       "      <td>0.236417</td>\n",
       "      <td>1.883086</td>\n",
       "    </tr>\n",
       "    <tr>\n",
       "      <th>fraudulent</th>\n",
       "      <td>10728.0</td>\n",
       "      <td>0.046048</td>\n",
       "      <td>0.209598</td>\n",
       "      <td>0.000000</td>\n",
       "      <td>0.000000</td>\n",
       "      <td>0.000000</td>\n",
       "      <td>0.000000</td>\n",
       "      <td>1.000000</td>\n",
       "    </tr>\n",
       "  </tbody>\n",
       "</table>\n",
       "</div>"
      ],
      "text/plain": [
       "                                  count         mean          std       min  \\\n",
       "Id                              10728.0  5363.500000  3097.051178  0.000000   \n",
       "job_id                          10728.0  8967.278523  5149.962766  1.000000   \n",
       "telecommuting                   10728.0     0.042785     0.202382  0.000000   \n",
       "has_company_logo                10728.0     0.798005     0.401507  0.000000   \n",
       "has_questions                   10728.0     0.488535     0.499892  0.000000   \n",
       "required_doughnuts_comsumption  10728.0     0.043313     0.367068 -1.131903   \n",
       "fraudulent                      10728.0     0.046048     0.209598  0.000000   \n",
       "\n",
       "                                        25%          50%           75%  \\\n",
       "Id                              2681.750000  5363.500000   8045.250000   \n",
       "job_id                          4490.500000  9046.500000  13422.250000   \n",
       "telecommuting                      0.000000     0.000000      0.000000   \n",
       "has_company_logo                   1.000000     1.000000      1.000000   \n",
       "has_questions                      0.000000     0.000000      1.000000   \n",
       "required_doughnuts_comsumption    -0.195022     0.014018      0.236417   \n",
       "fraudulent                         0.000000     0.000000      0.000000   \n",
       "\n",
       "                                         max  \n",
       "Id                              10727.000000  \n",
       "job_id                          17878.000000  \n",
       "telecommuting                       1.000000  \n",
       "has_company_logo                    1.000000  \n",
       "has_questions                       1.000000  \n",
       "required_doughnuts_comsumption      1.883086  \n",
       "fraudulent                          1.000000  "
      ]
     },
     "execution_count": 7,
     "metadata": {},
     "output_type": "execute_result"
    }
   ],
   "source": [
    "df.describe().T"
   ]
  },
  {
   "cell_type": "code",
   "execution_count": 8,
   "id": "ca845b04",
   "metadata": {
    "execution": {
     "iopub.execute_input": "2022-10-14T15:07:07.705205Z",
     "iopub.status.busy": "2022-10-14T15:07:07.704834Z",
     "iopub.status.idle": "2022-10-14T15:07:07.747008Z",
     "shell.execute_reply": "2022-10-14T15:07:07.745779Z",
     "shell.execute_reply.started": "2022-10-14T15:07:07.705172Z"
    }
   },
   "outputs": [
    {
     "data": {
      "text/plain": [
       "0"
      ]
     },
     "execution_count": 8,
     "metadata": {},
     "output_type": "execute_result"
    }
   ],
   "source": [
    "df.duplicated().sum()\n",
    "#There are no duplicate rows"
   ]
  },
  {
   "cell_type": "markdown",
   "id": "01cf5d18",
   "metadata": {},
   "source": [
    "### Missing Values"
   ]
  },
  {
   "cell_type": "code",
   "execution_count": 9,
   "id": "db314e7e",
   "metadata": {
    "execution": {
     "iopub.execute_input": "2022-10-14T15:07:07.748948Z",
     "iopub.status.busy": "2022-10-14T15:07:07.748539Z",
     "iopub.status.idle": "2022-10-14T15:07:07.768847Z",
     "shell.execute_reply": "2022-10-14T15:07:07.768185Z",
     "shell.execute_reply.started": "2022-10-14T15:07:07.748907Z"
    }
   },
   "outputs": [
    {
     "data": {
      "text/plain": [
       "salary_range                      84.069724\n",
       "department                        65.333706\n",
       "required_education                45.684191\n",
       "benefits                          40.715884\n",
       "required_experience               39.513423\n",
       "function                          36.073826\n",
       "industry                          27.395600\n",
       "employment_type                   19.183445\n",
       "company_profile                   18.288591\n",
       "requirements                      15.184564\n",
       "location                           1.910887\n",
       "description                        0.009321\n",
       "Id                                 0.000000\n",
       "required_doughnuts_comsumption     0.000000\n",
       "telecommuting                      0.000000\n",
       "has_questions                      0.000000\n",
       "has_company_logo                   0.000000\n",
       "job_id                             0.000000\n",
       "title                              0.000000\n",
       "fraudulent                         0.000000\n",
       "dtype: float64"
      ]
     },
     "execution_count": 9,
     "metadata": {},
     "output_type": "execute_result"
    }
   ],
   "source": [
    "((df.isnull().sum() / df.shape[0]) * 100).sort_values(ascending=False)"
   ]
  },
  {
   "cell_type": "code",
   "execution_count": 10,
   "id": "51cb1414",
   "metadata": {
    "execution": {
     "iopub.execute_input": "2022-10-14T15:07:07.770887Z",
     "iopub.status.busy": "2022-10-14T15:07:07.769870Z",
     "iopub.status.idle": "2022-10-14T15:07:08.305764Z",
     "shell.execute_reply": "2022-10-14T15:07:08.305016Z",
     "shell.execute_reply.started": "2022-10-14T15:07:07.770839Z"
    }
   },
   "outputs": [
    {
     "data": {
      "image/png": "[encoded data removed]",
      "text/plain": [
       "<Figure size 1800x720 with 2 Axes>"
      ]
     },
     "metadata": {
      "needs_background": "light"
     },
     "output_type": "display_data"
    }
   ],
   "source": [
    "msno.matrix(df)\n",
    "plt.show()"
   ]
  },
  {
   "cell_type": "markdown",
   "id": "35bd2371",
   "metadata": {},
   "source": [
    "Notice the features with the most missing values are:\n",
    "* salary_range\n",
    "* department\n",
    "* required_education\n",
    "* benefits\n",
    "* required_experience\n",
    "* function\n",
    "* industry"
   ]
  },
  {
   "cell_type": "markdown",
   "id": "0240ad36",
   "metadata": {},
   "source": [
    "### Data distribution"
   ]
  },
  {
   "cell_type": "code",
   "execution_count": 11,
   "id": "a54cec4c",
   "metadata": {
    "execution": {
     "iopub.execute_input": "2022-10-14T15:07:08.309760Z",
     "iopub.status.busy": "2022-10-14T15:07:08.308844Z",
     "iopub.status.idle": "2022-10-14T15:07:08.397444Z",
     "shell.execute_reply": "2022-10-14T15:07:08.396760Z",
     "shell.execute_reply.started": "2022-10-14T15:07:08.309725Z"
    }
   },
   "outputs": [
    {
     "data": {
      "image/png": "[encoded data removed]",
      "text/plain": [
       "<Figure size 432x288 with 1 Axes>"
      ]
     },
     "metadata": {},
     "output_type": "display_data"
    }
   ],
   "source": [
    "distribution = df['fraudulent'].value_counts()\n",
    "plt.pie([distribution[0],distribution[1]],labels=[\"real\",\"fraud\"], autopct='%1.1f%%');"
   ]
  },
  {
   "cell_type": "markdown",
   "id": "3d829818",
   "metadata": {},
   "source": [
    "The data is clearly unbalanced there are a lot more samples of non-fraudulent jobs than of fraudulent ads."
   ]
  },
  {
   "cell_type": "markdown",
   "id": "b79e923a",
   "metadata": {},
   "source": [
    "### Correlation Matrix"
   ]
  },
  {
   "cell_type": "code",
   "execution_count": 12,
   "id": "a62c10d2",
   "metadata": {
    "execution": {
     "iopub.execute_input": "2022-10-14T15:07:08.399063Z",
     "iopub.status.busy": "2022-10-14T15:07:08.398558Z",
     "iopub.status.idle": "2022-10-14T15:07:08.658303Z",
     "shell.execute_reply": "2022-10-14T15:07:08.657191Z",
     "shell.execute_reply.started": "2022-10-14T15:07:08.399029Z"
    }
   },
   "outputs": [
    {
     "data": {
      "image/png": "[encoded data removed]",
      "text/plain": [
       "<Figure size 432x288 with 2 Axes>"
      ]
     },
     "metadata": {
      "needs_background": "light"
     },
     "output_type": "display_data"
    }
   ],
   "source": [
    "sns.heatmap(df[[\"telecommuting\",\"has_company_logo\",\"has_questions\",\"required_doughnuts_comsumption\",\"fraudulent\"]].corr(),annot=True);"
   ]
  },
  {
   "cell_type": "markdown",
   "id": "7215baf7",
   "metadata": {},
   "source": [
    "The only feature with a high correlation with the label is doughnut consumption. However, this feature is weird."
   ]
  },
  {
   "cell_type": "markdown",
   "id": "fc8ab397",
   "metadata": {},
   "source": [
    "### Doughnut consumption feature distribution"
   ]
  },
  {
   "cell_type": "code",
   "execution_count": 13,
   "id": "093b59f7",
   "metadata": {
    "execution": {
     "iopub.execute_input": "2022-10-14T15:07:08.660382Z",
     "iopub.status.busy": "2022-10-14T15:07:08.659961Z",
     "iopub.status.idle": "2022-10-14T15:07:09.054703Z",
     "shell.execute_reply": "2022-10-14T15:07:09.053506Z",
     "shell.execute_reply.started": "2022-10-14T15:07:08.660345Z"
    }
   },
   "outputs": [
    {
     "data": {
      "image/png": "[encoded data removed]",
      "text/plain": [
       "<Figure size 432x288 with 2 Axes>"
      ]
     },
     "metadata": {
      "needs_background": "light"
     },
     "output_type": "display_data"
    }
   ],
   "source": [
    "#Let's check the distribution of the varialbe doghnouts consumption\n",
    "fig, axs = plt.subplots(ncols=2)\n",
    "sns.histplot(df, x=\"required_doughnuts_comsumption\", ax=axs[0])\n",
    "sns.histplot(df_sub, x=\"doughnuts_comsumption\", ax=axs[1])\n",
    "plt.show()"
   ]
  },
  {
   "cell_type": "markdown",
   "id": "5c8cde49",
   "metadata": {},
   "source": [
    "### Drop unwanted features"
   ]
  },
  {
   "cell_type": "code",
   "execution_count": 14,
   "id": "8e840e0d",
   "metadata": {
    "execution": {
     "iopub.execute_input": "2022-10-14T15:07:09.056821Z",
     "iopub.status.busy": "2022-10-14T15:07:09.056174Z",
     "iopub.status.idle": "2022-10-14T15:07:09.068041Z",
     "shell.execute_reply": "2022-10-14T15:07:09.066975Z",
     "shell.execute_reply.started": "2022-10-14T15:07:09.056789Z"
    }
   },
   "outputs": [],
   "source": [
    "#Drop features that are not wanted or that have a high percentage of missing values\n",
    "df = df.drop(columns=['job_id', 'Id', 'salary_range', 'department', 'benefits', 'required_doughnuts_comsumption'])\n",
    "df_sub = df_sub.drop(columns=['job_id', 'Id', 'salary_range', 'department', 'benefits', 'doughnuts_comsumption'])"
   ]
  },
  {
   "cell_type": "markdown",
   "id": "b8342a1b",
   "metadata": {},
   "source": [
    "## Data Cleaning"
   ]
  },
  {
   "cell_type": "markdown",
   "id": "8a1ce994",
   "metadata": {},
   "source": [
    "### Missing Values"
   ]
  },
  {
   "cell_type": "markdown",
   "id": "d9bb315a",
   "metadata": {},
   "source": [
    "We will treat missing values in two different ways:\n",
    "- If the missing value corresponds to a long text feature, we substitute the nan for an empty string.\n",
    "- If the missing value corresponds to a categorical feature (such as emplyment_type, required_education and required_experience), we substitute the nan for \"Not Specified\". "
   ]
  },
  {
   "cell_type": "code",
   "execution_count": 15,
   "id": "271bf6b4",
   "metadata": {
    "execution": {
     "iopub.execute_input": "2022-10-14T15:07:09.069655Z",
     "iopub.status.busy": "2022-10-14T15:07:09.069330Z",
     "iopub.status.idle": "2022-10-14T15:07:09.120268Z",
     "shell.execute_reply": "2022-10-14T15:07:09.119257Z",
     "shell.execute_reply.started": "2022-10-14T15:07:09.069628Z"
    }
   },
   "outputs": [],
   "source": [
    "#filling null values, 'Not Applicable' and 'Unspecified' with 'Not Specified'\n",
    "df.fillna(' ', inplace=True)\n",
    "df = df.replace(['Not Applicable','Unspecified'],' ')\n",
    "df['employment_type'] = df['employment_type'].replace(' ', 'Not Specified')\n",
    "df['required_education'] = df['required_education'].replace(' ', 'Not Specified')\n",
    "df['required_experience'] = df['required_experience'].replace(' ', 'Not Specified')\n",
    "\n",
    "df_sub.fillna(' ', inplace=True)\n",
    "df_sub = df_sub.replace(['Not Applicable','Unspecified'],' ')\n",
    "df_sub['employment_type'] = df_sub['employment_type'].replace(' ', 'Not Specified')\n",
    "df_sub['required_education'] = df_sub['required_education'].replace(' ', 'Not Specified')\n",
    "df_sub['required_experience'] = df_sub['required_experience'].replace(' ', 'Not Specified')"
   ]
  },
  {
   "cell_type": "code",
   "execution_count": 16,
   "id": "24170799",
   "metadata": {
    "execution": {
     "iopub.execute_input": "2022-10-14T15:07:09.121671Z",
     "iopub.status.busy": "2022-10-14T15:07:09.121446Z",
     "iopub.status.idle": "2022-10-14T15:07:09.135350Z",
     "shell.execute_reply": "2022-10-14T15:07:09.134461Z",
     "shell.execute_reply.started": "2022-10-14T15:07:09.121649Z"
    }
   },
   "outputs": [
    {
     "data": {
      "text/plain": [
       "title                  0\n",
       "location               0\n",
       "company_profile        0\n",
       "description            0\n",
       "requirements           0\n",
       "telecommuting          0\n",
       "has_company_logo       0\n",
       "has_questions          0\n",
       "employment_type        0\n",
       "required_experience    0\n",
       "required_education     0\n",
       "industry               0\n",
       "function               0\n",
       "fraudulent             0\n",
       "dtype: int64"
      ]
     },
     "execution_count": 16,
     "metadata": {},
     "output_type": "execute_result"
    }
   ],
   "source": [
    "df.isna().sum()"
   ]
  },
  {
   "cell_type": "markdown",
   "id": "9b89027e",
   "metadata": {},
   "source": [
    "### Text features"
   ]
  },
  {
   "cell_type": "markdown",
   "id": "2aa483c3",
   "metadata": {},
   "source": [
    "We will treat all text features as one, by joining all text features and dropping the features that contain the data individually.\n",
    "Furthermore, once the text is all together, we will preprocess it, taking care of punctuation, removing special characters, urls and phone numbers, and using a Lemmatizer to convert words into their stem word."
   ]
  },
  {
   "cell_type": "code",
   "execution_count": 17,
   "id": "12db7b75",
   "metadata": {
    "execution": {
     "iopub.execute_input": "2022-10-14T15:07:09.136920Z",
     "iopub.status.busy": "2022-10-14T15:07:09.136622Z",
     "iopub.status.idle": "2022-10-14T15:07:09.367520Z",
     "shell.execute_reply": "2022-10-14T15:07:09.365974Z",
     "shell.execute_reply.started": "2022-10-14T15:07:09.136890Z"
    }
   },
   "outputs": [],
   "source": [
    "text_features = ['title', 'company_profile', 'description', 'requirements', 'industry', 'function', 'location']\n",
    "df[\"text_feature\"] = \"\"\n",
    "df_sub[\"text_feature\"] = \"\"\n",
    "for col in text_features:\n",
    "    df[\"text_feature\"]= df[\"text_feature\"]+\" \"+ df[col]\n",
    "    df_sub[\"text_feature\"]= df_sub[\"text_feature\"]+\" \"+ df_sub[col]\n",
    "    \n",
    "df = df.drop(columns=text_features)\n",
    "df_sub = df_sub.drop(columns=text_features)"
   ]
  },
  {
   "cell_type": "code",
   "execution_count": 18,
   "id": "061d3f0f",
   "metadata": {
    "execution": {
     "iopub.execute_input": "2022-10-14T15:07:09.369587Z",
     "iopub.status.busy": "2022-10-14T15:07:09.369228Z",
     "iopub.status.idle": "2022-10-14T15:07:09.376713Z",
     "shell.execute_reply": "2022-10-14T15:07:09.375366Z",
     "shell.execute_reply.started": "2022-10-14T15:07:09.369553Z"
    }
   },
   "outputs": [
    {
     "data": {
      "text/plain": [
       "'  Jr. Business Analyst & Quality Analyst (entry level)   Duration: Full time / W2Location: Piscataway,NJJob description: BA/QA We are looking to hire resources for our Financial &amp; Health care clients.Candidate should have knowledge or experience in BA Process,QA Testing, Junior or entry level candidates with BA/QA skills are encouraged to apply.Candidates Qualification: Masters Degree in Computer Science, Engineering or similar field.* Knowledge of BA and QA* Knowledge of Databases like Oracle and SQL.* Excellent communication skills.* Must Have a positive attitude.If interested please send me updated Resume with below details :Full Name :Email Id :Phone # &amp; Alternate Phone :Current Location &amp; Address :Relocation Preference :Availability :Visa Status :Expected Rate / Salary :--&gt; Please send your visa scan copy along with above details. So that I will forward your resume along with these details &amp; visa copy to my HR team they will contact with you sortrly.Please feel free to call me at #PHONE_6fb4e3f0d879fbd771e07d2bf95e0d16e006c6226ed669ea5b1d6f27fa2a90e0#, if you have any questions. What we require:-- Masters degree in Computers Science/ Information Technology/MBA.-- Candidates willing to relocates New Jersey. -- Excellent Communication skills. -- Quick learner, Ability to adapting the new technologies. Financial Services Finance US, NJ, PISCATAWAY'"
      ]
     },
     "execution_count": 18,
     "metadata": {},
     "output_type": "execute_result"
    }
   ],
   "source": [
    "df[\"text_feature\"].iloc[0]"
   ]
  },
  {
   "cell_type": "markdown",
   "id": "5f2dcf45",
   "metadata": {},
   "source": [
    "### Text pre-processing"
   ]
  },
  {
   "cell_type": "code",
   "execution_count": 19,
   "id": "689fefdc",
   "metadata": {
    "execution": {
     "iopub.execute_input": "2022-10-14T15:07:09.379122Z",
     "iopub.status.busy": "2022-10-14T15:07:09.378682Z",
     "iopub.status.idle": "2022-10-14T15:07:09.388157Z",
     "shell.execute_reply": "2022-10-14T15:07:09.387346Z",
     "shell.execute_reply.started": "2022-10-14T15:07:09.379085Z"
    }
   },
   "outputs": [],
   "source": [
    "from nltk.stem import WordNetLemmatizer \n",
    "\n",
    "def text_cleaning(text):\n",
    "    \n",
    "    obj = re.compile(r\"(#URL.*#)\")\n",
    "    text = obj.sub(r\" \", text)\n",
    "    \n",
    "    obj = re.compile(r\"#PHONE.*#\")\n",
    "    text = obj.sub(r\" \", text)\n",
    "    \n",
    "    text = text.lower() #text to lowercase\n",
    "    \n",
    "    text = re.sub(r'\\d+', ' ', text) #remove digits\n",
    "    \n",
    "    translator = str.maketrans(' ', ' ', string.punctuation) #remove punctuation\n",
    "    text = text.translate(translator)\n",
    "    \n",
    "    text = \" \".join(text.split()) #remove whitespaces\n",
    "    \n",
    "    obj = re.compile(r\"<.*?>\")    #remove html tags\n",
    "    text = obj.sub(r\" \",text)\n",
    "    \n",
    "    obj = re.compile(r\"https://\\S+|http://\\S+\")    #remove url\n",
    "    text = obj.sub(r\" \",text)\n",
    "    \n",
    "    obj = re.compile(r\"_+\")     #remove underscore\n",
    "    text = obj.sub(r\" \",text)\n",
    "    \n",
    "    obj = re.compile(r\"\\s\\w\\s\")   #remove single character\n",
    "    text = obj.sub(r\" \",text)\n",
    "    \n",
    "    stop_words = set(stopwords.words(\"english\"))\n",
    "\n",
    "    #stemmer = SnowballStemmer(\"english\")\n",
    "    #text = [stemmer.stem(word) for word in text.split() if word not in stop_words]\n",
    "    \n",
    "    lemmatizer = WordNetLemmatizer()\n",
    "    text = [lemmatizer.lemmatize(word) for word in text.split() if word not in stop_words]\n",
    "    \n",
    "    return \" \".join(text)"
   ]
  },
  {
   "cell_type": "code",
   "execution_count": 20,
   "id": "ed908d3b",
   "metadata": {
    "execution": {
     "iopub.execute_input": "2022-10-14T15:07:09.389446Z",
     "iopub.status.busy": "2022-10-14T15:07:09.389156Z",
     "iopub.status.idle": "2022-10-14T15:07:39.178039Z",
     "shell.execute_reply": "2022-10-14T15:07:39.176905Z",
     "shell.execute_reply.started": "2022-10-14T15:07:09.389422Z"
    }
   },
   "outputs": [],
   "source": [
    "df[\"text_feature\"] = df[\"text_feature\"].apply(text_cleaning)\n",
    "df_sub[\"text_feature\"] = df_sub[\"text_feature\"].apply(text_cleaning)"
   ]
  },
  {
   "cell_type": "code",
   "execution_count": 21,
   "id": "644591e8",
   "metadata": {
    "execution": {
     "iopub.execute_input": "2022-10-14T15:07:39.179671Z",
     "iopub.status.busy": "2022-10-14T15:07:39.179306Z",
     "iopub.status.idle": "2022-10-14T15:07:39.188811Z",
     "shell.execute_reply": "2022-10-14T15:07:39.187634Z",
     "shell.execute_reply.started": "2022-10-14T15:07:39.179638Z"
    }
   },
   "outputs": [
    {
     "data": {
      "text/plain": [
       "'jr business analyst quality analyst entry level duration full time location piscatawaynjjob description baqa looking hire resource financial amp health care clientscandidate knowledge experience ba processqa testing junior entry level candidate baqa skill encouraged applycandidates qualification master degree computer science engineering similar field knowledge ba qa knowledge database like oracle sql excellent communication skill must positive attitudeif interested please send updated resume detail full name email id phone amp alternate phone current location amp address relocation preference availability visa status expected rate salary gt please send visa scan copy along detail forward resume along detail amp visa copy hr team contact sortrlyplease feel free call question require master degree computer science information technologymba candidate willing relocates new jersey excellent communication skill quick learner ability adapting new technology financial service finance nj piscataway'"
      ]
     },
     "execution_count": 21,
     "metadata": {},
     "output_type": "execute_result"
    }
   ],
   "source": [
    "text_cleaning(df['text_feature'].iloc[0])"
   ]
  },
  {
   "cell_type": "markdown",
   "id": "08521d5c",
   "metadata": {},
   "source": [
    "### One Hot Encode variables"
   ]
  },
  {
   "cell_type": "markdown",
   "id": "c4115dc4",
   "metadata": {},
   "source": [
    "The variables we are going to one hot encode are:\n",
    "* required_experience\n",
    "* required_education\n",
    "* eployment_type"
   ]
  },
  {
   "cell_type": "code",
   "execution_count": 22,
   "id": "48093124",
   "metadata": {
    "execution": {
     "iopub.execute_input": "2022-10-14T15:07:39.190836Z",
     "iopub.status.busy": "2022-10-14T15:07:39.190086Z",
     "iopub.status.idle": "2022-10-14T15:07:39.224958Z",
     "shell.execute_reply": "2022-10-14T15:07:39.224160Z",
     "shell.execute_reply.started": "2022-10-14T15:07:39.190806Z"
    }
   },
   "outputs": [],
   "source": [
    "df = pd.get_dummies(data=df, columns=['required_experience'])\n",
    "df = pd.get_dummies(data=df, columns=['required_education'])\n",
    "df = pd.get_dummies(data=df, columns=['employment_type'])\n",
    "\n",
    "\n",
    "\n",
    "df_sub = pd.get_dummies(data=df_sub, columns=['required_experience'])\n",
    "df_sub = pd.get_dummies(data=df_sub, columns=['required_education'])\n",
    "df_sub = pd.get_dummies(data=df_sub, columns=['employment_type'])"
   ]
  },
  {
   "cell_type": "markdown",
   "id": "4639c6d2",
   "metadata": {},
   "source": [
    "## Models"
   ]
  },
  {
   "cell_type": "code",
   "execution_count": 28,
   "id": "0dea9e0e",
   "metadata": {
    "execution": {
     "iopub.execute_input": "2022-10-14T15:07:39.227614Z",
     "iopub.status.busy": "2022-10-14T15:07:39.226790Z",
     "iopub.status.idle": "2022-10-14T15:07:39.540420Z",
     "shell.execute_reply": "2022-10-14T15:07:39.539506Z",
     "shell.execute_reply.started": "2022-10-14T15:07:39.227584Z"
    }
   },
   "outputs": [],
   "source": [
    "from sklearn import model_selection\n",
    "from sklearn.model_selection import train_test_split\n",
    "from sklearn.feature_extraction.text import TfidfVectorizer\n",
    "from sklearn.decomposition import PCA\n",
    "import scipy as sp\n",
    "\n",
    "from sklearn.linear_model import SGDClassifier\n",
    "from sklearn import svm\n",
    "import xgboost as xgb\n",
    "\n",
    "from sklearn.metrics import confusion_matrix, ConfusionMatrixDisplay\n",
    "from sklearn.metrics import f1_score, accuracy_score\n",
    "from sklearn.metrics import make_scorer\n",
    "\n",
    "from sklearn.model_selection import cross_val_score, GridSearchCV, KFold"
   ]
  },
  {
   "cell_type": "code",
   "execution_count": 29,
   "id": "26dabf1c",
   "metadata": {
    "execution": {
     "iopub.execute_input": "2022-10-14T15:07:39.541825Z",
     "iopub.status.busy": "2022-10-14T15:07:39.541540Z",
     "iopub.status.idle": "2022-10-14T15:07:39.548819Z",
     "shell.execute_reply": "2022-10-14T15:07:39.547953Z",
     "shell.execute_reply.started": "2022-10-14T15:07:39.541799Z"
    }
   },
   "outputs": [],
   "source": [
    "y = df[\"fraudulent\"]\n",
    "X = df.drop([\"fraudulent\"], axis=1)"
   ]
  },
  {
   "cell_type": "code",
   "execution_count": 30,
   "id": "e880418b",
   "metadata": {
    "execution": {
     "iopub.execute_input": "2022-10-14T15:07:39.550021Z",
     "iopub.status.busy": "2022-10-14T15:07:39.549788Z",
     "iopub.status.idle": "2022-10-14T15:07:39.568700Z",
     "shell.execute_reply": "2022-10-14T15:07:39.567824Z",
     "shell.execute_reply.started": "2022-10-14T15:07:39.549998Z"
    }
   },
   "outputs": [
    {
     "name": "stdout",
     "output_type": "stream",
     "text": [
      "Training size:  (8582, 30)\n",
      "Validation size:  (2146, 30)\n"
     ]
    }
   ],
   "source": [
    "X_train,X_val,y_train,y_val=train_test_split(X,y.T,test_size=0.20, random_state=42)\n",
    "\n",
    "print(\"Training size: \", X_train.shape)\n",
    "print(\"Validation size: \", X_val.shape)"
   ]
  },
  {
   "cell_type": "markdown",
   "id": "b32a283b",
   "metadata": {},
   "source": [
    "### Vectorize the data\n",
    "\n",
    "We will use a vectorizer to preprocess our text feature since we can't directly fit the model with them."
   ]
  },
  {
   "cell_type": "code",
   "execution_count": 31,
   "id": "60fd02ff",
   "metadata": {
    "execution": {
     "iopub.execute_input": "2022-10-14T15:07:39.571348Z",
     "iopub.status.busy": "2022-10-14T15:07:39.571100Z",
     "iopub.status.idle": "2022-10-14T15:07:54.391656Z",
     "shell.execute_reply": "2022-10-14T15:07:54.390723Z",
     "shell.execute_reply.started": "2022-10-14T15:07:39.571325Z"
    }
   },
   "outputs": [],
   "source": [
    "vectorizer = TfidfVectorizer(strip_accents='unicode',\n",
    "                       analyzer='word',\n",
    "                       ngram_range=(1, 4),\n",
    "                       smooth_idf=True,\n",
    "                        max_features=15000,\n",
    "                       sublinear_tf=True)\n",
    "\n",
    "vectorizer.fit(X_train['text_feature'])\n",
    "\n",
    "# Transform training\n",
    "text_vector = vectorizer.transform(X_train['text_feature'])\n",
    "rest_train = X_train.drop(columns=['text_feature'])\n",
    "X_train = sp.sparse.hstack((text_vector, rest_train))\n",
    "\n",
    "# Transform validation\n",
    "text_vector = vectorizer.transform(X_val['text_feature'])\n",
    "rest_val = X_val.drop(columns=['text_feature'])\n",
    "X_val = sp.sparse.hstack((text_vector, rest_val))"
   ]
  },
  {
   "cell_type": "markdown",
   "id": "7c783348",
   "metadata": {},
   "source": [
    "### Apply PCA\n",
    "Apply PCA to reduce the dimension of the data."
   ]
  },
  {
   "cell_type": "code",
   "execution_count": 32,
   "id": "dcc97716",
   "metadata": {
    "execution": {
     "iopub.execute_input": "2022-10-14T15:07:54.393035Z",
     "iopub.status.busy": "2022-10-14T15:07:54.392780Z"
    }
   },
   "outputs": [],
   "source": [
    "pca = PCA(n_components=0.95)\n",
    "pca.fit(X_train.toarray())\n",
    "\n",
    "#Transform training\n",
    "X_train = pca.transform(X_train.toarray())\n",
    "#Transform validation\n",
    "X_val = pca.transform(X_val.toarray())"
   ]
  },
  {
   "cell_type": "markdown",
   "id": "76591dd3",
   "metadata": {},
   "source": [
    "### Hyperparameter tuning"
   ]
  },
  {
   "cell_type": "code",
   "execution_count": 33,
   "id": "8500c3f9",
   "metadata": {},
   "outputs": [],
   "source": [
    "def report_best_scores(results, n_top=3):\n",
    "    for i in range(1, n_top + 1):\n",
    "        candidates = np.flatnonzero(results['rank_test_f1_score'] == i)\n",
    "        for candidate in candidates:\n",
    "            print(\"Model with rank: {0}\".format(i))\n",
    "            print(\"Mean validation f1_score: {0:.3f} (std: {1:.3f})\".format(\n",
    "                  results['mean_test_f1_score'][candidate],\n",
    "                  results['std_test_f1_score'][candidate]))\n",
    "            print(\"Mean validation accuracy: {0:.3f} (std: {1:.3f})\".format(\n",
    "                  results['mean_test_accuracy'][candidate],\n",
    "                  results['std_test_accuracy'][candidate]))\n",
    "            print(\"Parameters: {0}\".format(results['params'][candidate]))\n",
    "            print(\"\")"
   ]
  },
  {
   "cell_type": "markdown",
   "id": "786e93ef",
   "metadata": {},
   "source": [
    "#### Search for best parameters for SVM model"
   ]
  },
  {
   "cell_type": "code",
   "execution_count": 36,
   "id": "43ab228a",
   "metadata": {},
   "outputs": [
    {
     "name": "stdout",
     "output_type": "stream",
     "text": [
      "Fitting 3 folds for each of 32 candidates, totalling 96 fits\n"
     ]
    },
    {
     "data": {
      "text/html": [
       "<style>#sk-container-id-1 {color: black;background-color: white;}#sk-container-id-1 pre{padding: 0;}#sk-container-id-1 div.sk-toggleable {background-color: white;}#sk-container-id-1 label.sk-toggleable__label {cursor: pointer;display: block;width: 100%;margin-bottom: 0;padding: 0.3em;box-sizing: border-box;text-align: center;}#sk-container-id-1 label.sk-toggleable__label-arrow:before {content: \"▸\";float: left;margin-right: 0.25em;color: #696969;}#sk-container-id-1 label.sk-toggleable__label-arrow:hover:before {color: black;}#sk-container-id-1 div.sk-estimator:hover label.sk-toggleable__label-arrow:before {color: black;}#sk-container-id-1 div.sk-toggleable__content {max-height: 0;max-width: 0;overflow: hidden;text-align: left;background-color: #f0f8ff;}#sk-container-id-1 div.sk-toggleable__content pre {margin: 0.2em;color: black;border-radius: 0.25em;background-color: #f0f8ff;}#sk-container-id-1 input.sk-toggleable__control:checked~div.sk-toggleable__content {max-height: 200px;max-width: 100%;overflow: auto;}#sk-container-id-1 input.sk-toggleable__control:checked~label.sk-toggleable__label-arrow:before {content: \"▾\";}#sk-container-id-1 div.sk-estimator input.sk-toggleable__control:checked~label.sk-toggleable__label {background-color: #d4ebff;}#sk-container-id-1 div.sk-label input.sk-toggleable__control:checked~label.sk-toggleable__label {background-color: #d4ebff;}#sk-container-id-1 input.sk-hidden--visually {border: 0;clip: rect(1px 1px 1px 1px);clip: rect(1px, 1px, 1px, 1px);height: 1px;margin: -1px;overflow: hidden;padding: 0;position: absolute;width: 1px;}#sk-container-id-1 div.sk-estimator {font-family: monospace;background-color: #f0f8ff;border: 1px dotted black;border-radius: 0.25em;box-sizing: border-box;margin-bottom: 0.5em;}#sk-container-id-1 div.sk-estimator:hover {background-color: #d4ebff;}#sk-container-id-1 div.sk-parallel-item::after {content: \"\";width: 100%;border-bottom: 1px solid gray;flex-grow: 1;}#sk-container-id-1 div.sk-label:hover label.sk-toggleable__label {background-color: #d4ebff;}#sk-container-id-1 div.sk-serial::before {content: \"\";position: absolute;border-left: 1px solid gray;box-sizing: border-box;top: 0;bottom: 0;left: 50%;z-index: 0;}#sk-container-id-1 div.sk-serial {display: flex;flex-direction: column;align-items: center;background-color: white;padding-right: 0.2em;padding-left: 0.2em;position: relative;}#sk-container-id-1 div.sk-item {position: relative;z-index: 1;}#sk-container-id-1 div.sk-parallel {display: flex;align-items: stretch;justify-content: center;background-color: white;position: relative;}#sk-container-id-1 div.sk-item::before, #sk-container-id-1 div.sk-parallel-item::before {content: \"\";position: absolute;border-left: 1px solid gray;box-sizing: border-box;top: 0;bottom: 0;left: 50%;z-index: -1;}#sk-container-id-1 div.sk-parallel-item {display: flex;flex-direction: column;z-index: 1;position: relative;background-color: white;}#sk-container-id-1 div.sk-parallel-item:first-child::after {align-self: flex-end;width: 50%;}#sk-container-id-1 div.sk-parallel-item:last-child::after {align-self: flex-start;width: 50%;}#sk-container-id-1 div.sk-parallel-item:only-child::after {width: 0;}#sk-container-id-1 div.sk-dashed-wrapped {border: 1px dashed gray;margin: 0 0.4em 0.5em 0.4em;box-sizing: border-box;padding-bottom: 0.4em;background-color: white;}#sk-container-id-1 div.sk-label label {font-family: monospace;font-weight: bold;display: inline-block;line-height: 1.2em;}#sk-container-id-1 div.sk-label-container {text-align: center;}#sk-container-id-1 div.sk-container {/* jupyter's `normalize.less` sets `[hidden] { display: none; }` but bootstrap.min.css set `[hidden] { display: none !important; }` so we also need the `!important` here to be able to override the default hidden behavior on the sphinx rendered scikit-learn.org. See: https://github.com/scikit-learn/scikit-learn/issues/21755 */display: inline-block !important;position: relative;}#sk-container-id-1 div.sk-text-repr-fallback {display: none;}</style><div id=\"sk-container-id-1\" class=\"sk-top-container\"><div class=\"sk-text-repr-fallback\"><pre>GridSearchCV(cv=3, estimator=SVC(), n_jobs=4,\n",
       "             param_grid={&#x27;C&#x27;: [10, 11, 12, 13],\n",
       "                         &#x27;class_weight&#x27;: [None, &#x27;balanced&#x27;],\n",
       "                         &#x27;gamma&#x27;: [0.1, 0.13, 0.15, 0.18], &#x27;kernel&#x27;: [&#x27;rbf&#x27;]},\n",
       "             refit=False,\n",
       "             scoring={&#x27;accuracy&#x27;: make_scorer(accuracy_score),\n",
       "                      &#x27;f1_score&#x27;: make_scorer(f1_score)},\n",
       "             verbose=2)</pre><b>In a Jupyter environment, please rerun this cell to show the HTML representation or trust the notebook. <br />On GitHub, the HTML representation is unable to render, please try loading this page with nbviewer.org.</b></div><div class=\"sk-container\" hidden><div class=\"sk-item sk-dashed-wrapped\"><div class=\"sk-label-container\"><div class=\"sk-label sk-toggleable\"><input class=\"sk-toggleable__control sk-hidden--visually\" id=\"sk-estimator-id-1\" type=\"checkbox\" ><label for=\"sk-estimator-id-1\" class=\"sk-toggleable__label sk-toggleable__label-arrow\">GridSearchCV</label><div class=\"sk-toggleable__content\"><pre>GridSearchCV(cv=3, estimator=SVC(), n_jobs=4,\n",
       "             param_grid={&#x27;C&#x27;: [10, 11, 12, 13],\n",
       "                         &#x27;class_weight&#x27;: [None, &#x27;balanced&#x27;],\n",
       "                         &#x27;gamma&#x27;: [0.1, 0.13, 0.15, 0.18], &#x27;kernel&#x27;: [&#x27;rbf&#x27;]},\n",
       "             refit=False,\n",
       "             scoring={&#x27;accuracy&#x27;: make_scorer(accuracy_score),\n",
       "                      &#x27;f1_score&#x27;: make_scorer(f1_score)},\n",
       "             verbose=2)</pre></div></div></div><div class=\"sk-parallel\"><div class=\"sk-parallel-item\"><div class=\"sk-item\"><div class=\"sk-label-container\"><div class=\"sk-label sk-toggleable\"><input class=\"sk-toggleable__control sk-hidden--visually\" id=\"sk-estimator-id-2\" type=\"checkbox\" ><label for=\"sk-estimator-id-2\" class=\"sk-toggleable__label sk-toggleable__label-arrow\">estimator: SVC</label><div class=\"sk-toggleable__content\"><pre>SVC()</pre></div></div></div><div class=\"sk-serial\"><div class=\"sk-item\"><div class=\"sk-estimator sk-toggleable\"><input class=\"sk-toggleable__control sk-hidden--visually\" id=\"sk-estimator-id-3\" type=\"checkbox\" ><label for=\"sk-estimator-id-3\" class=\"sk-toggleable__label sk-toggleable__label-arrow\">SVC</label><div class=\"sk-toggleable__content\"><pre>SVC()</pre></div></div></div></div></div></div></div></div></div></div>"
      ],
      "text/plain": [
       "GridSearchCV(cv=3, estimator=SVC(), n_jobs=4,\n",
       "             param_grid={'C': [10, 11, 12, 13],\n",
       "                         'class_weight': [None, 'balanced'],\n",
       "                         'gamma': [0.1, 0.13, 0.15, 0.18], 'kernel': ['rbf']},\n",
       "             refit=False,\n",
       "             scoring={'accuracy': make_scorer(accuracy_score),\n",
       "                      'f1_score': make_scorer(f1_score)},\n",
       "             verbose=2)"
      ]
     },
     "execution_count": 36,
     "metadata": {},
     "output_type": "execute_result"
    }
   ],
   "source": [
    "clf = svm.SVC()\n",
    "\n",
    "parameters = {'C': [10,11,12,13], \n",
    "              'gamma': [0.10,0.13,0.15,0.18],\n",
    "              'kernel': ['rbf'],\n",
    "             'class_weight': [None, 'balanced']}\n",
    "\n",
    "scoring = {'accuracy': make_scorer(accuracy_score),\n",
    "            'f1_score': make_scorer(f1_score)}\n",
    "\n",
    "grid_search_tune = GridSearchCV(clf, parameters, cv=3, n_jobs=4, verbose=1, scoring=scoring, refit=False)\n",
    "grid_search_tune.fit(X_train, y_train)\n"
   ]
  },
  {
   "cell_type": "code",
   "execution_count": 37,
   "id": "205bffcd",
   "metadata": {},
   "outputs": [
    {
     "name": "stdout",
     "output_type": "stream",
     "text": [
      "Model with rank: 1\n",
      "Mean validation f1_score: 0.831 (std: 0.017)\n",
      "Mean validation accuracy: 0.985 (std: 0.001)\n",
      "Parameters: {'C': 13, 'class_weight': 'balanced', 'gamma': 0.13, 'kernel': 'rbf'}\n",
      "\n"
     ]
    }
   ],
   "source": [
    "report_best_scores(grid_search_tune.cv_results_, 1)"
   ]
  },
  {
   "cell_type": "markdown",
   "id": "ac5df233",
   "metadata": {},
   "source": [
    "#### Search for best parameters for SGD model"
   ]
  },
  {
   "cell_type": "code",
   "execution_count": 34,
   "id": "a7f02c5a",
   "metadata": {},
   "outputs": [
    {
     "name": "stdout",
     "output_type": "stream",
     "text": [
      "Fitting 3 folds for each of 144 candidates, totalling 432 fits\n"
     ]
    },
    {
     "data": {
      "text/html": [
       "<style>#sk-container-id-1 {color: black;background-color: white;}#sk-container-id-1 pre{padding: 0;}#sk-container-id-1 div.sk-toggleable {background-color: white;}#sk-container-id-1 label.sk-toggleable__label {cursor: pointer;display: block;width: 100%;margin-bottom: 0;padding: 0.3em;box-sizing: border-box;text-align: center;}#sk-container-id-1 label.sk-toggleable__label-arrow:before {content: \"▸\";float: left;margin-right: 0.25em;color: #696969;}#sk-container-id-1 label.sk-toggleable__label-arrow:hover:before {color: black;}#sk-container-id-1 div.sk-estimator:hover label.sk-toggleable__label-arrow:before {color: black;}#sk-container-id-1 div.sk-toggleable__content {max-height: 0;max-width: 0;overflow: hidden;text-align: left;background-color: #f0f8ff;}#sk-container-id-1 div.sk-toggleable__content pre {margin: 0.2em;color: black;border-radius: 0.25em;background-color: #f0f8ff;}#sk-container-id-1 input.sk-toggleable__control:checked~div.sk-toggleable__content {max-height: 200px;max-width: 100%;overflow: auto;}#sk-container-id-1 input.sk-toggleable__control:checked~label.sk-toggleable__label-arrow:before {content: \"▾\";}#sk-container-id-1 div.sk-estimator input.sk-toggleable__control:checked~label.sk-toggleable__label {background-color: #d4ebff;}#sk-container-id-1 div.sk-label input.sk-toggleable__control:checked~label.sk-toggleable__label {background-color: #d4ebff;}#sk-container-id-1 input.sk-hidden--visually {border: 0;clip: rect(1px 1px 1px 1px);clip: rect(1px, 1px, 1px, 1px);height: 1px;margin: -1px;overflow: hidden;padding: 0;position: absolute;width: 1px;}#sk-container-id-1 div.sk-estimator {font-family: monospace;background-color: #f0f8ff;border: 1px dotted black;border-radius: 0.25em;box-sizing: border-box;margin-bottom: 0.5em;}#sk-container-id-1 div.sk-estimator:hover {background-color: #d4ebff;}#sk-container-id-1 div.sk-parallel-item::after {content: \"\";width: 100%;border-bottom: 1px solid gray;flex-grow: 1;}#sk-container-id-1 div.sk-label:hover label.sk-toggleable__label {background-color: #d4ebff;}#sk-container-id-1 div.sk-serial::before {content: \"\";position: absolute;border-left: 1px solid gray;box-sizing: border-box;top: 0;bottom: 0;left: 50%;z-index: 0;}#sk-container-id-1 div.sk-serial {display: flex;flex-direction: column;align-items: center;background-color: white;padding-right: 0.2em;padding-left: 0.2em;position: relative;}#sk-container-id-1 div.sk-item {position: relative;z-index: 1;}#sk-container-id-1 div.sk-parallel {display: flex;align-items: stretch;justify-content: center;background-color: white;position: relative;}#sk-container-id-1 div.sk-item::before, #sk-container-id-1 div.sk-parallel-item::before {content: \"\";position: absolute;border-left: 1px solid gray;box-sizing: border-box;top: 0;bottom: 0;left: 50%;z-index: -1;}#sk-container-id-1 div.sk-parallel-item {display: flex;flex-direction: column;z-index: 1;position: relative;background-color: white;}#sk-container-id-1 div.sk-parallel-item:first-child::after {align-self: flex-end;width: 50%;}#sk-container-id-1 div.sk-parallel-item:last-child::after {align-self: flex-start;width: 50%;}#sk-container-id-1 div.sk-parallel-item:only-child::after {width: 0;}#sk-container-id-1 div.sk-dashed-wrapped {border: 1px dashed gray;margin: 0 0.4em 0.5em 0.4em;box-sizing: border-box;padding-bottom: 0.4em;background-color: white;}#sk-container-id-1 div.sk-label label {font-family: monospace;font-weight: bold;display: inline-block;line-height: 1.2em;}#sk-container-id-1 div.sk-label-container {text-align: center;}#sk-container-id-1 div.sk-container {/* jupyter's `normalize.less` sets `[hidden] { display: none; }` but bootstrap.min.css set `[hidden] { display: none !important; }` so we also need the `!important` here to be able to override the default hidden behavior on the sphinx rendered scikit-learn.org. See: https://github.com/scikit-learn/scikit-learn/issues/21755 */display: inline-block !important;position: relative;}#sk-container-id-1 div.sk-text-repr-fallback {display: none;}</style><div id=\"sk-container-id-1\" class=\"sk-top-container\"><div class=\"sk-text-repr-fallback\"><pre>GridSearchCV(cv=3, estimator=SGDClassifier(), n_jobs=2,\n",
       "             param_grid={&#x27;alpha&#x27;: [0.0001, 0.001, 0.01, 0.1],\n",
       "                         &#x27;loss&#x27;: [&#x27;hinge&#x27;, &#x27;log&#x27;, &#x27;squared_hinge&#x27;,\n",
       "                                  &#x27;modified_huber&#x27;],\n",
       "                         &#x27;max_iter&#x27;: [500, 1000, 1500],\n",
       "                         &#x27;penalty&#x27;: [&#x27;l2&#x27;, &#x27;l1&#x27;, &#x27;none&#x27;]},\n",
       "             refit=False,\n",
       "             scoring={&#x27;accuracy&#x27;: make_scorer(accuracy_score),\n",
       "                      &#x27;f1_score&#x27;: make_scorer(f1_score)},\n",
       "             verbose=1)</pre><b>In a Jupyter environment, please rerun this cell to show the HTML representation or trust the notebook. <br />On GitHub, the HTML representation is unable to render, please try loading this page with nbviewer.org.</b></div><div class=\"sk-container\" hidden><div class=\"sk-item sk-dashed-wrapped\"><div class=\"sk-label-container\"><div class=\"sk-label sk-toggleable\"><input class=\"sk-toggleable__control sk-hidden--visually\" id=\"sk-estimator-id-1\" type=\"checkbox\" ><label for=\"sk-estimator-id-1\" class=\"sk-toggleable__label sk-toggleable__label-arrow\">GridSearchCV</label><div class=\"sk-toggleable__content\"><pre>GridSearchCV(cv=3, estimator=SGDClassifier(), n_jobs=2,\n",
       "             param_grid={&#x27;alpha&#x27;: [0.0001, 0.001, 0.01, 0.1],\n",
       "                         &#x27;loss&#x27;: [&#x27;hinge&#x27;, &#x27;log&#x27;, &#x27;squared_hinge&#x27;,\n",
       "                                  &#x27;modified_huber&#x27;],\n",
       "                         &#x27;max_iter&#x27;: [500, 1000, 1500],\n",
       "                         &#x27;penalty&#x27;: [&#x27;l2&#x27;, &#x27;l1&#x27;, &#x27;none&#x27;]},\n",
       "             refit=False,\n",
       "             scoring={&#x27;accuracy&#x27;: make_scorer(accuracy_score),\n",
       "                      &#x27;f1_score&#x27;: make_scorer(f1_score)},\n",
       "             verbose=1)</pre></div></div></div><div class=\"sk-parallel\"><div class=\"sk-parallel-item\"><div class=\"sk-item\"><div class=\"sk-label-container\"><div class=\"sk-label sk-toggleable\"><input class=\"sk-toggleable__control sk-hidden--visually\" id=\"sk-estimator-id-2\" type=\"checkbox\" ><label for=\"sk-estimator-id-2\" class=\"sk-toggleable__label sk-toggleable__label-arrow\">estimator: SGDClassifier</label><div class=\"sk-toggleable__content\"><pre>SGDClassifier()</pre></div></div></div><div class=\"sk-serial\"><div class=\"sk-item\"><div class=\"sk-estimator sk-toggleable\"><input class=\"sk-toggleable__control sk-hidden--visually\" id=\"sk-estimator-id-3\" type=\"checkbox\" ><label for=\"sk-estimator-id-3\" class=\"sk-toggleable__label sk-toggleable__label-arrow\">SGDClassifier</label><div class=\"sk-toggleable__content\"><pre>SGDClassifier()</pre></div></div></div></div></div></div></div></div></div></div>"
      ],
      "text/plain": [
       "GridSearchCV(cv=3, estimator=SGDClassifier(), n_jobs=2,\n",
       "             param_grid={'alpha': [0.0001, 0.001, 0.01, 0.1],\n",
       "                         'loss': ['hinge', 'log', 'squared_hinge',\n",
       "                                  'modified_huber'],\n",
       "                         'max_iter': [500, 1000, 1500],\n",
       "                         'penalty': ['l2', 'l1', 'none']},\n",
       "             refit=False,\n",
       "             scoring={'accuracy': make_scorer(accuracy_score),\n",
       "                      'f1_score': make_scorer(f1_score)},\n",
       "             verbose=1)"
      ]
     },
     "execution_count": 34,
     "metadata": {},
     "output_type": "execute_result"
    }
   ],
   "source": [
    "clf = SGDClassifier()\n",
    "\n",
    "parameters = {\"loss\" : [\"hinge\", \"log\", \"squared_hinge\", \"modified_huber\"],\n",
    "              \"alpha\" : [0.0001, 0.001, 0.01, 0.1],\n",
    "              \"penalty\" : [\"l2\", \"l1\", \"none\"],\n",
    "              \"max_iter\" : [500, 1000, 1500],\n",
    "}\n",
    "\n",
    "scoring = {'accuracy': make_scorer(accuracy_score),\n",
    "            'f1_score': make_scorer(f1_score)}\n",
    "\n",
    "grid_search_tune = GridSearchCV(clf, parameters, cv=3, n_jobs=2, verbose=1, scoring=scoring, refit=False)\n",
    "grid_search_tune.fit(X_train, y_train)"
   ]
  },
  {
   "cell_type": "code",
   "execution_count": 35,
   "id": "6a3804d2",
   "metadata": {},
   "outputs": [
    {
     "name": "stdout",
     "output_type": "stream",
     "text": [
      "Model with rank: 1\n",
      "Mean validation f1_score: 0.773 (std: 0.013)\n",
      "Mean validation accuracy: 0.981 (std: 0.000)\n",
      "Parameters: {'alpha': 0.0001, 'loss': 'modified_huber', 'max_iter': 1000, 'penalty': 'l2'}\n",
      "\n"
     ]
    }
   ],
   "source": [
    "report_best_scores(grid_search_tune.cv_results_, 1)"
   ]
  },
  {
   "cell_type": "markdown",
   "id": "40f83b63",
   "metadata": {},
   "source": [
    "#### Search for best parameters for XGBoost model"
   ]
  },
  {
   "cell_type": "code",
   "execution_count": null,
   "id": "7faa0ac6",
   "metadata": {},
   "outputs": [
    {
     "name": "stdout",
     "output_type": "stream",
     "text": [
      "Fitting 3 folds for each of 1215 candidates, totalling 3645 fits\n"
     ]
    }
   ],
   "source": [
    "\"\"\"clf = xgb.XGBClassifier()\n",
    "\n",
    "parameters = {'min_child_weight': [1, 5, 10],\n",
    "              'gamma': [0.5, 1, 1.5, 2, 5],\n",
    "              'subsample': [0.6, 0.8, 1.0],\n",
    "              'colsample_bytree': [0.6, 0.8, 1.0],\n",
    "              'max_depth': [3, 4, 5],\n",
    "              'learning_rate': [0.02, 0.01, 0.03]\n",
    "}\n",
    "\n",
    "scoring = {'accuracy': make_scorer(accuracy_score),\n",
    "            'f1_score': make_scorer(f1_score)}\n",
    "\n",
    "grid_search_tune = GridSearchCV(clf, parameters, cv=3, n_jobs=2, verbose=4, scoring=scoring, refit=False)\n",
    "grid_search_tune.fit(X_train, y_train)\"\"\""
   ]
  },
  {
   "cell_type": "code",
   "execution_count": null,
   "id": "f28cc617",
   "metadata": {},
   "outputs": [],
   "source": [
    "#report_best_scores(grid_search_tune.cv_results_, 1)"
   ]
  },
  {
   "cell_type": "markdown",
   "id": "998d9ffc",
   "metadata": {},
   "source": [
    "### Build two different classifiers"
   ]
  },
  {
   "cell_type": "code",
   "execution_count": 1,
   "id": "0316530c",
   "metadata": {},
   "outputs": [
    {
     "ename": "NameError",
     "evalue": "name 'svm' is not defined",
     "output_type": "error",
     "traceback": [
      "\u001b[0;31m---------------------------------------------------------------------------\u001b[0m",
      "\u001b[0;31mNameError\u001b[0m                                 Traceback (most recent call last)",
      "Cell \u001b[0;32mIn[1], line 1\u001b[0m\n\u001b[0;32m----> 1\u001b[0m clf1 \u001b[38;5;241m=\u001b[39m svm\u001b[38;5;241m.\u001b[39mSVC(C\u001b[38;5;241m=\u001b[39m \u001b[38;5;241m13\u001b[39m, gamma\u001b[38;5;241m=\u001b[39m\u001b[38;5;241m0.13\u001b[39m, kernel\u001b[38;5;241m=\u001b[39m\u001b[38;5;124m'\u001b[39m\u001b[38;5;124mrbf\u001b[39m\u001b[38;5;124m'\u001b[39m, class_weight \u001b[38;5;241m=\u001b[39m \u001b[38;5;124m'\u001b[39m\u001b[38;5;124mbalanced\u001b[39m\u001b[38;5;124m'\u001b[39m)\n\u001b[1;32m      2\u001b[0m clf2 \u001b[38;5;241m=\u001b[39m xgb\u001b[38;5;241m.\u001b[39mXGBClassifier()\n\u001b[1;32m      3\u001b[0m clf3 \u001b[38;5;241m=\u001b[39m SGDClassifier(alpha\u001b[38;5;241m=\u001b[39m\u001b[38;5;241m0.0001\u001b[39m, loss\u001b[38;5;241m=\u001b[39m\u001b[38;5;124m'\u001b[39m\u001b[38;5;124mhinge\u001b[39m\u001b[38;5;124m'\u001b[39m, max_iter\u001b[38;5;241m=\u001b[39m\u001b[38;5;241m1000\u001b[39m, penalty\u001b[38;5;241m=\u001b[39m\u001b[38;5;124m'\u001b[39m\u001b[38;5;124ml2\u001b[39m\u001b[38;5;124m'\u001b[39m)\n",
      "\u001b[0;31mNameError\u001b[0m: name 'svm' is not defined"
     ]
    }
   ],
   "source": [
    "clf1 = svm.SVC(C= 13, gamma=0.13, kernel='rbf', class_weight = 'balanced')\n",
    "clf2 = xgb.XGBClassifier()\n",
    "clf3 = SGDClassifier(alpha=0.0001, loss='modified_huber', max_iter=1000, penalty='l2')"
   ]
  },
  {
   "cell_type": "code",
   "execution_count": 2,
   "id": "973d7771",
   "metadata": {},
   "outputs": [
    {
     "ename": "NameError",
     "evalue": "name 'clf1' is not defined",
     "output_type": "error",
     "traceback": [
      "\u001b[0;31m---------------------------------------------------------------------------\u001b[0m",
      "\u001b[0;31mNameError\u001b[0m                                 Traceback (most recent call last)",
      "Cell \u001b[0;32mIn[2], line 1\u001b[0m\n\u001b[0;32m----> 1\u001b[0m clf1\u001b[38;5;241m.\u001b[39mfit(X_train, y_train)\n\u001b[1;32m      2\u001b[0m clf2\u001b[38;5;241m.\u001b[39mfit(X_train, y_train)\n\u001b[1;32m      3\u001b[0m clf3\u001b[38;5;241m.\u001b[39mfit(X_train, y_train)\n",
      "\u001b[0;31mNameError\u001b[0m: name 'clf1' is not defined"
     ]
    }
   ],
   "source": [
    "clf1.fit(X_train, y_train)\n",
    "clf2.fit(X_train, y_train)\n",
    "clf3.fit(X_train, y_train)"
   ]
  },
  {
   "cell_type": "code",
   "execution_count": 41,
   "id": "41887f35",
   "metadata": {},
   "outputs": [
    {
     "name": "stdout",
     "output_type": "stream",
     "text": [
      "Training accuracy for SVM model: 1.00\n",
      "Training F1-score for SVM model: 1.00\n",
      "Training accuracy for GradientBoosting model: 1.00\n",
      "Training F1-score for GradientBoosting model: 1.00\n",
      "Training accuracy for SGD model: 1.00\n",
      "Training F1-score for SGD model: 0.99\n"
     ]
    }
   ],
   "source": [
    "yhat_train1 = clf1.predict(X_train)\n",
    "train_acc = accuracy_score(y_train, yhat_train1)\n",
    "train_score = f1_score(y_train, yhat_train1)\n",
    "print(\"Training accuracy for SVM model: %.2f\" %(train_acc))\n",
    "print(\"Training F1-score for SVM model: %.2f\" %(train_score))\n",
    "\n",
    "yhat_train2 = clf2.predict(X_train)\n",
    "train_acc = accuracy_score(y_train, yhat_train2)\n",
    "train_score = f1_score(y_train, yhat_train2)\n",
    "print(\"Training accuracy for GradientBoosting model: %.2f\" %(train_acc))\n",
    "print(\"Training F1-score for GradientBoosting model: %.2f\" %(train_score))\n",
    "\n",
    "yhat_train3 = clf3.predict(X_train)\n",
    "train_acc = accuracy_score(y_train, yhat_train3)\n",
    "train_score = f1_score(y_train, yhat_train3)\n",
    "print(\"Training accuracy for SGD model: %.2f\" %(train_acc))\n",
    "print(\"Training F1-score for SGD model: %.2f\" %(train_score))\n"
   ]
  },
  {
   "cell_type": "code",
   "execution_count": 42,
   "id": "050413c0",
   "metadata": {},
   "outputs": [
    {
     "name": "stdout",
     "output_type": "stream",
     "text": [
      "Validation accuracy for SVM model: 0.99\n",
      "Validation F1-score for SVM model: 0.81\n",
      "Validation accuracy for GradientBoosting model: 0.98\n",
      "Validation F1-score for GradientBoosting model: 0.66\n",
      "Validation accuracy for SGD model: 0.98\n",
      "Validation F1-score for SGD model: 0.74\n"
     ]
    }
   ],
   "source": [
    "yhat_val1 = clf1.predict(X_val)\n",
    "val_acc = accuracy_score(y_val, yhat_val1)\n",
    "val_score = f1_score(y_val, yhat_val1)\n",
    "print(\"Validation accuracy for SVM model: %.2f\" %(val_acc))\n",
    "print(\"Validation F1-score for SVM model: %.2f\" %(val_score))\n",
    "\n",
    "yhat_val2 = clf2.predict(X_val)\n",
    "val_acc = accuracy_score(y_val, yhat_val2)\n",
    "val_score = f1_score(y_val, yhat_val2)\n",
    "print(\"Validation accuracy for GradientBoosting model: %.2f\" %(val_acc))\n",
    "print(\"Validation F1-score for GradientBoosting model: %.2f\" %(val_score))\n",
    "\n",
    "yhat_val3 = clf3.predict(X_val)\n",
    "val_acc = accuracy_score(y_val, yhat_val3)\n",
    "val_score = f1_score(y_val, yhat_val3)\n",
    "print(\"Validation accuracy for SGD model: %.2f\" %(val_acc))\n",
    "print(\"Validation F1-score for SGD model: %.2f\" %(val_score))"
   ]
  },
  {
   "cell_type": "code",
   "execution_count": 43,
   "id": "c4cb4071",
   "metadata": {},
   "outputs": [
    {
     "data": {
      "image/png": "[encoded data removed]",
      "text/plain": [
       "<Figure size 432x288 with 2 Axes>"
      ]
     },
     "metadata": {
      "needs_background": "light"
     },
     "output_type": "display_data"
    }
   ],
   "source": [
    "cm = confusion_matrix(y_val, yhat_val1, labels=clf1.classes_)\n",
    "disp = ConfusionMatrixDisplay(confusion_matrix=cm,\n",
    "                               display_labels=clf1.classes_)\n",
    "disp.plot()\n",
    "plt.show()"
   ]
  },
  {
   "cell_type": "code",
   "execution_count": 44,
   "id": "d119b6d1",
   "metadata": {},
   "outputs": [
    {
     "data": {
      "image/png": "[encoded data removed]",
      "text/plain": [
       "<Figure size 432x288 with 2 Axes>"
      ]
     },
     "metadata": {
      "needs_background": "light"
     },
     "output_type": "display_data"
    }
   ],
   "source": [
    "cm = confusion_matrix(y_val, yhat_val2, labels=clf2.classes_)\n",
    "disp = ConfusionMatrixDisplay(confusion_matrix=cm,\n",
    "                               display_labels=clf2.classes_)\n",
    "disp.plot()\n",
    "plt.show()"
   ]
  },
  {
   "cell_type": "code",
   "execution_count": 45,
   "id": "febc5e7d",
   "metadata": {},
   "outputs": [
    {
     "data": {
      "image/png": "[encoded data removed]",
      "text/plain": [
       "<Figure size 432x288 with 2 Axes>"
      ]
     },
     "metadata": {
      "needs_background": "light"
     },
     "output_type": "display_data"
    }
   ],
   "source": [
    "cm = confusion_matrix(y_val, yhat_val3, labels=clf3.classes_)\n",
    "disp = ConfusionMatrixDisplay(confusion_matrix=cm,\n",
    "                               display_labels=clf3.classes_)\n",
    "disp.plot()\n",
    "plt.show()"
   ]
  },
  {
   "cell_type": "markdown",
   "id": "1294a460",
   "metadata": {},
   "source": [
    "The model with the best F1-score in validation is the SVM model. Therefore, we are goign to train the model again, but now using the whole dataset, in order to make the final submission."
   ]
  },
  {
   "cell_type": "markdown",
   "id": "ffb10a7d",
   "metadata": {},
   "source": [
    "## Train on all the dataset"
   ]
  },
  {
   "cell_type": "code",
   "execution_count": 216,
   "id": "065d23a5",
   "metadata": {},
   "outputs": [
    {
     "data": {
      "text/html": [
       "<style>#sk-container-id-8 {color: black;background-color: white;}#sk-container-id-8 pre{padding: 0;}#sk-container-id-8 div.sk-toggleable {background-color: white;}#sk-container-id-8 label.sk-toggleable__label {cursor: pointer;display: block;width: 100%;margin-bottom: 0;padding: 0.3em;box-sizing: border-box;text-align: center;}#sk-container-id-8 label.sk-toggleable__label-arrow:before {content: \"▸\";float: left;margin-right: 0.25em;color: #696969;}#sk-container-id-8 label.sk-toggleable__label-arrow:hover:before {color: black;}#sk-container-id-8 div.sk-estimator:hover label.sk-toggleable__label-arrow:before {color: black;}#sk-container-id-8 div.sk-toggleable__content {max-height: 0;max-width: 0;overflow: hidden;text-align: left;background-color: #f0f8ff;}#sk-container-id-8 div.sk-toggleable__content pre {margin: 0.2em;color: black;border-radius: 0.25em;background-color: #f0f8ff;}#sk-container-id-8 input.sk-toggleable__control:checked~div.sk-toggleable__content {max-height: 200px;max-width: 100%;overflow: auto;}#sk-container-id-8 input.sk-toggleable__control:checked~label.sk-toggleable__label-arrow:before {content: \"▾\";}#sk-container-id-8 div.sk-estimator input.sk-toggleable__control:checked~label.sk-toggleable__label {background-color: #d4ebff;}#sk-container-id-8 div.sk-label input.sk-toggleable__control:checked~label.sk-toggleable__label {background-color: #d4ebff;}#sk-container-id-8 input.sk-hidden--visually {border: 0;clip: rect(1px 1px 1px 1px);clip: rect(1px, 1px, 1px, 1px);height: 1px;margin: -1px;overflow: hidden;padding: 0;position: absolute;width: 1px;}#sk-container-id-8 div.sk-estimator {font-family: monospace;background-color: #f0f8ff;border: 1px dotted black;border-radius: 0.25em;box-sizing: border-box;margin-bottom: 0.5em;}#sk-container-id-8 div.sk-estimator:hover {background-color: #d4ebff;}#sk-container-id-8 div.sk-parallel-item::after {content: \"\";width: 100%;border-bottom: 1px solid gray;flex-grow: 1;}#sk-container-id-8 div.sk-label:hover label.sk-toggleable__label {background-color: #d4ebff;}#sk-container-id-8 div.sk-serial::before {content: \"\";position: absolute;border-left: 1px solid gray;box-sizing: border-box;top: 0;bottom: 0;left: 50%;z-index: 0;}#sk-container-id-8 div.sk-serial {display: flex;flex-direction: column;align-items: center;background-color: white;padding-right: 0.2em;padding-left: 0.2em;position: relative;}#sk-container-id-8 div.sk-item {position: relative;z-index: 1;}#sk-container-id-8 div.sk-parallel {display: flex;align-items: stretch;justify-content: center;background-color: white;position: relative;}#sk-container-id-8 div.sk-item::before, #sk-container-id-8 div.sk-parallel-item::before {content: \"\";position: absolute;border-left: 1px solid gray;box-sizing: border-box;top: 0;bottom: 0;left: 50%;z-index: -1;}#sk-container-id-8 div.sk-parallel-item {display: flex;flex-direction: column;z-index: 1;position: relative;background-color: white;}#sk-container-id-8 div.sk-parallel-item:first-child::after {align-self: flex-end;width: 50%;}#sk-container-id-8 div.sk-parallel-item:last-child::after {align-self: flex-start;width: 50%;}#sk-container-id-8 div.sk-parallel-item:only-child::after {width: 0;}#sk-container-id-8 div.sk-dashed-wrapped {border: 1px dashed gray;margin: 0 0.4em 0.5em 0.4em;box-sizing: border-box;padding-bottom: 0.4em;background-color: white;}#sk-container-id-8 div.sk-label label {font-family: monospace;font-weight: bold;display: inline-block;line-height: 1.2em;}#sk-container-id-8 div.sk-label-container {text-align: center;}#sk-container-id-8 div.sk-container {/* jupyter's `normalize.less` sets `[hidden] { display: none; }` but bootstrap.min.css set `[hidden] { display: none !important; }` so we also need the `!important` here to be able to override the default hidden behavior on the sphinx rendered scikit-learn.org. See: https://github.com/scikit-learn/scikit-learn/issues/21755 */display: inline-block !important;position: relative;}#sk-container-id-8 div.sk-text-repr-fallback {display: none;}</style><div id=\"sk-container-id-8\" class=\"sk-top-container\"><div class=\"sk-text-repr-fallback\"><pre>SVC(C=11, class_weight=&#x27;balanced&#x27;, gamma=0.13)</pre><b>In a Jupyter environment, please rerun this cell to show the HTML representation or trust the notebook. <br />On GitHub, the HTML representation is unable to render, please try loading this page with nbviewer.org.</b></div><div class=\"sk-container\" hidden><div class=\"sk-item\"><div class=\"sk-estimator sk-toggleable\"><input class=\"sk-toggleable__control sk-hidden--visually\" id=\"sk-estimator-id-18\" type=\"checkbox\" checked><label for=\"sk-estimator-id-18\" class=\"sk-toggleable__label sk-toggleable__label-arrow\">SVC</label><div class=\"sk-toggleable__content\"><pre>SVC(C=11, class_weight=&#x27;balanced&#x27;, gamma=0.13)</pre></div></div></div></div></div>"
      ],
      "text/plain": [
       "SVC(C=11, class_weight='balanced', gamma=0.13)"
      ]
     },
     "execution_count": 216,
     "metadata": {},
     "output_type": "execute_result"
    }
   ],
   "source": [
    "vectorizer = TfidfVectorizer(strip_accents='unicode',\n",
    "                       analyzer='word',\n",
    "                       ngram_range=(1, 4),\n",
    "                       smooth_idf=True,\n",
    "                        max_features=15000,\n",
    "                       sublinear_tf=True)\n",
    "\n",
    "vectorizer.fit(X['text_feature'])\n",
    "\n",
    "# Transform training\n",
    "text_vector = vectorizer.transform(X['text_feature'])\n",
    "rest_train = X.drop(columns=['text_feature'])\n",
    "X = sp.sparse.hstack((text_vector, rest_train))\n",
    "\n",
    "pca = PCA(n_components=0.95)\n",
    "pca.fit(X.toarray())\n",
    "\n",
    "#Transform training\n",
    "X = pca.transform(X.toarray())\n",
    "\n",
    "clf1.fit(X, y)"
   ]
  },
  {
   "cell_type": "markdown",
   "id": "1450e22f",
   "metadata": {},
   "source": [
    "## Create submission"
   ]
  },
  {
   "cell_type": "code",
   "execution_count": 217,
   "id": "f96f6a2c",
   "metadata": {},
   "outputs": [],
   "source": [
    "test_data = df_sub"
   ]
  },
  {
   "cell_type": "code",
   "execution_count": 218,
   "id": "3d8d7a11",
   "metadata": {},
   "outputs": [],
   "source": [
    "text_vector = vectorizer.transform(test_data['text_feature'])\n",
    "rest_test = test_data.drop(columns=['text_feature'])\n",
    "test_data = sp.sparse.hstack((text_vector, rest_test))\n",
    "\n",
    "test_data = pca.transform(test_data.toarray())"
   ]
  },
  {
   "cell_type": "code",
   "execution_count": 219,
   "id": "0de28e88",
   "metadata": {},
   "outputs": [],
   "source": [
    "prediction = clf1.predict(test_data)"
   ]
  },
  {
   "cell_type": "code",
   "execution_count": 220,
   "id": "545c8734",
   "metadata": {},
   "outputs": [],
   "source": [
    "df_output = pd.DataFrame(prediction)\n",
    "df_output.index.name = 'Id'\n",
    "df_output.columns = ['Category']\n",
    "df_output.to_csv('submission.csv')"
   ]
  }
 ],
 "metadata": {
  "kernelspec": {
   "display_name": "Python 3 (ipykernel)",
   "language": "python",
   "name": "python3"
  },
  "language_info": {
   "codemirror_mode": {
    "name": "ipython",
    "version": 3
   },
   "file_extension": ".py",
   "mimetype": "text/x-python",
   "name": "python",
   "nbconvert_exporter": "python",
   "pygments_lexer": "ipython3",
   "version": "3.11.2"
  }
 },
 "nbformat": 4,
 "nbformat_minor": 5
}
